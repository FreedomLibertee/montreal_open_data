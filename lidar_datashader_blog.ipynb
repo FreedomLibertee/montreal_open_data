{
 "cells": [
  {
   "cell_type": "markdown",
   "metadata": {},
   "source": [
    "# Using LasPy, Pandas and Datashader to visualize LIDAR data."
   ]
  },
  {
   "cell_type": "markdown",
   "metadata": {},
   "source": [
    "##### Imports"
   ]
  },
  {
   "cell_type": "code",
   "execution_count": null,
   "metadata": {},
   "outputs": [],
   "source": [
    "import numpy as np\n",
    "import pandas as pd\n",
    "import matplotlib.pyplot as plt\n",
    "from mpl_toolkits.mplot3d import Axes3D\n",
    "\n",
    "import os\n",
    "import imageio\n",
    "from laspy.file import File\n",
    "import datashader as ds\n",
    "import datashader.transfer_functions as tf\n",
    "from matplotlib import cm"
   ]
  },
  {
   "cell_type": "markdown",
   "metadata": {},
   "source": [
    "##### Download sample data - begin with .las file"
   ]
  },
  {
   "cell_type": "code",
   "execution_count": null,
   "metadata": {},
   "outputs": [],
   "source": [
    "# Download sample data from: 'http://depot.ville.montreal.qc.ca/geomatique/lidar_aerien/2015/300-5046_2015.laz' and extract using lasZip\n",
    "sample_data = '300-5046_2015.las'\n",
    "export_path = 'export//'"
   ]
  },
  {
   "cell_type": "markdown",
   "metadata": {},
   "source": [
    "### The basic load / visualization"
   ]
  },
  {
   "cell_type": "markdown",
   "metadata": {},
   "source": [
    "##### Load LIDAR file with LasPy"
   ]
  },
  {
   "cell_type": "code",
   "execution_count": null,
   "metadata": {},
   "outputs": [],
   "source": [
    "inFile = File(sample_data, mode='r')\n",
    "df = pd.DataFrame() \n",
    "df['X'] = inFile.X \n",
    "df['Y'] = inFile.Y \n",
    "df['Z'] = inFile.Z\n",
    "df['class'] = inFile.classification\n",
    "display(df)"
   ]
  },
  {
   "cell_type": "markdown",
   "metadata": {},
   "source": [
    "##### Plot the tile using datashader"
   ]
  },
  {
   "cell_type": "code",
   "execution_count": null,
   "metadata": {},
   "outputs": [],
   "source": [
    "cvs = ds.Canvas(plot_width=1000, plot_height=1000)\n",
    "agg = cvs.points(df, 'X', 'Y', ds.mean('Z'))\n",
    "img = tf.shade(agg)#, cmap=['lightblue', 'darkblue'], how='log')\n",
    "tf.set_background(tf.shade(agg, cmap=cm.inferno),\"black\")"
   ]
  },
  {
   "cell_type": "markdown",
   "metadata": {},
   "source": [
    "### More complex operations"
   ]
  },
  {
   "cell_type": "markdown",
   "metadata": {},
   "source": [
    "##### Seperate the different classes of pixel"
   ]
  },
  {
   "cell_type": "code",
   "execution_count": null,
   "metadata": {},
   "outputs": [],
   "source": [
    "# Create a dataframe containing only the lidar voxels for buildings.\n",
    "class_df = df.loc[df['class'] == 6]\n",
    "\n",
    "# Visualize with datashader\n",
    "cvs = ds.Canvas(plot_width=1000, plot_height=1000)\n",
    "agg = cvs.points(class_df, 'X', 'Y', ds.mean('Z'))\n",
    "img = tf.shade(agg)#, how='log')\n",
    "tf.set_background(tf.shade(agg, cmap=cm.inferno),\"black\")"
   ]
  },
  {
   "cell_type": "code",
   "execution_count": null,
   "metadata": {},
   "outputs": [],
   "source": [
    "# Combine multiple classes of voxels that contain levels of vegetation\n",
    "veg_df = df.loc[(df['class'] > 2) & (df['class'] < 6)]\n",
    "\n",
    "# Visualize with datashader\n",
    "cvs = ds.Canvas(plot_width=1000, plot_height=1000)\n",
    "agg = cvs.points(veg_df, 'X', 'Y', ds.mean('Z'))\n",
    "img = tf.shade(agg)#, how='log')\n",
    "tf.set_background(tf.shade(agg, cmap=cm.inferno),\"black\")"
   ]
  },
  {
   "cell_type": "markdown",
   "metadata": {},
   "source": [
    "##### Create a 3D surface visualization"
   ]
  },
  {
   "cell_type": "code",
   "execution_count": null,
   "metadata": {
    "scrolled": true
   },
   "outputs": [],
   "source": [
    "# Use entire image containing olympic stadium, etc.\n",
    "X = df['X']\n",
    "Y = df['Y']\n",
    "Z = df['Z']\n",
    "\n",
    "# Downsample x and y\n",
    "ds_factor = 500\n",
    "ds_x = X[::ds_factor] \n",
    "ds_y = Y[::ds_factor] \n",
    "ds_z = Z[::ds_factor] \n",
    "\n",
    "##### Export the gif\n",
    "frames = []\n",
    "identifier = 'bigO_tile_downsample_' + str(ds_factor) + 'x_surface_lidar'  \n",
    "\n",
    "if not os.path.exists(export_path):\n",
    "    os.makedirs(export_path)\n",
    "\n",
    "fig = plt.figure(figsize = (10,10)) \n",
    "ax = fig.add_subplot(111, projection='3d')\n",
    "\n",
    "# Plot the surface.\n",
    "surf = ax.plot_trisurf(ds_x, ds_y, ds_z, cmap=cm.inferno,\n",
    "                       linewidth=0, antialiased=False)\n",
    "\n",
    "for angle in range(0, 360):\n",
    "    ax.view_init(60, angle) # Higher angle than usually used of 30.\n",
    "    ax.set_axis_off()\n",
    "\n",
    "    # Draw the figure\n",
    "    fig.canvas.draw()\n",
    "\n",
    "    # Convert to numpy array, and append to list\n",
    "    np_fig = np.fromstring(fig.canvas.tostring_rgb(), dtype=np.uint8, sep='')\n",
    "    np_fig = np_fig.reshape(fig.canvas.get_width_height()[::-1] + (3,))\n",
    "    frames.append(np_fig)\n",
    "\n",
    "imageio.mimsave(export_path + identifier + '.gif', frames)"
   ]
  }
 ],
 "metadata": {
  "kernelspec": {
   "display_name": "Python 3",
   "language": "python",
   "name": "python3"
  },
  "varInspector": {
   "cols": {
    "lenName": 16,
    "lenType": 16,
    "lenVar": 40
   },
   "kernels_config": {
    "python": {
     "delete_cmd_postfix": "",
     "delete_cmd_prefix": "del ",
     "library": "var_list.py",
     "varRefreshCmd": "print(var_dic_list())"
    },
    "r": {
     "delete_cmd_postfix": ") ",
     "delete_cmd_prefix": "rm(",
     "library": "var_list.r",
     "varRefreshCmd": "cat(var_dic_list()) "
    }
   },
   "types_to_exclude": [
    "module",
    "function",
    "builtin_function_or_method",
    "instance",
    "_Feature"
   ],
   "window_display": false
  }
 },
 "nbformat": 4,
 "nbformat_minor": 2
}
